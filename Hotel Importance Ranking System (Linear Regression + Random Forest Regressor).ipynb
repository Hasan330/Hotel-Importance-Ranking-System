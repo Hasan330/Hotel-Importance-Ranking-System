{
 "cells": [
  {
   "cell_type": "markdown",
   "metadata": {},
   "source": [
    "## Work-Flow:\n",
    "1. Fetch Data (CSV)\n",
    "2. Clean the Data:\n",
    "    - Unify currency for (Booking total, Total Revenue)\n",
    "    - Other stuff \n",
    "3. Pre-Data Visualisation:\n",
    "    - Find Linear correlation factor between features and 3 targets\n",
    "4. Data Visualization:\n",
    "    - Visualize most relevant data\n",
    "        - Bar graphs for stars vs. total number of bookings\n",
    "        - Scatter Plots, histograms, funnels, etc..\n",
    "5. Data Seperation:\n",
    "    - Seperate data into sets based on supplier and perform correlation again to check if there is a difference between the 2\n",
    "    - Perform more data visualization\n",
    "6. Run regressions models on the data and check accuracy\n",
    "    - Linear Regression (https://github.com/Abdel-Razzak/DSF/blob/machine-learning/Supervised%20Learning%20-%20%20Linear%20Regression.ipynb)\n",
    "    - Random Forest Regressor (https://github.com/Abdel-Razzak/ADS/blob/012ee5cb8639ccbc2b4810d9001e2f00fde300a6/Decision-Trees-and-Random-Forests/Decision%20Trees%20and%20Random%20Forests.ipynb)\n",
    "7. Select Regression Model\n",
    "\n",
    "\n",
    "TODO:\n",
    "Create field called \"Content Score\" and \"Review Score\" "
   ]
  },
  {
   "cell_type": "markdown",
   "metadata": {},
   "source": [
    "## Questions to Ask:\n",
    "1) Which types of problems does Gaussian Naive Bayes Solve"
   ]
  },
  {
   "cell_type": "markdown",
   "metadata": {
    "ExecuteTime": {
     "end_time": "2017-04-28T09:34:38.951053",
     "start_time": "2017-04-28T09:34:38.939637"
    }
   },
   "source": [
    "![alt text](https://github.com/Abdel-Razzak/ADS/raw/039c281d7747a88780dc89bcf210f204a704678c/S2/images/mlprocess.PNG \"Logo Title Text 1\")"
   ]
  },
  {
   "cell_type": "markdown",
   "metadata": {},
   "source": [
    "### Importing"
   ]
  },
  {
   "cell_type": "code",
   "execution_count": 6,
   "metadata": {
    "ExecuteTime": {
     "end_time": "2017-05-03T22:29:31.550032",
     "start_time": "2017-05-03T22:29:29.634055"
    },
    "collapsed": false
   },
   "outputs": [],
   "source": [
    "import pandas as pd\n",
    "from matplotlib.pyplot import pie, axis, show\n",
    "import numpy as np\n",
    "from matplotlib import pyplot as plt\n",
    "from matplotlib import cm as cm\n",
    "import seaborn as sns\n",
    "%matplotlib inline\n",
    "import sklearn\n",
    "from sklearn.linear_model import LinearRegression\n",
    "import missingno as msno\n",
    "import plotly.plotly as py\n",
    "import plotly.graph_objs as go"
   ]
  },
  {
   "cell_type": "markdown",
   "metadata": {},
   "source": [
    "### Reading the Data"
   ]
  },
  {
   "cell_type": "code",
   "execution_count": 7,
   "metadata": {
    "ExecuteTime": {
     "end_time": "2017-05-03T22:29:34.774438",
     "start_time": "2017-05-03T22:29:32.940558"
    },
    "collapsed": false
   },
   "outputs": [],
   "source": [
    "df = pd.read_csv('properties2.csv', sep=';', dtype={'id': int, 'stars': float})"
   ]
  },
  {
   "cell_type": "markdown",
   "metadata": {},
   "source": [
    "### Looking at the Data"
   ]
  },
  {
   "cell_type": "code",
   "execution_count": 1,
   "metadata": {
    "ExecuteTime": {
     "end_time": "2017-05-03T22:28:56.367494",
     "start_time": "2017-05-03T22:28:56.364995"
    },
    "collapsed": false
   },
   "outputs": [],
   "source": [
    "#df.describe()"
   ]
  },
  {
   "cell_type": "code",
   "execution_count": 90,
   "metadata": {
    "ExecuteTime": {
     "end_time": "2017-05-02T13:47:07.208922",
     "start_time": "2017-05-02T13:47:06.988514"
    },
    "collapsed": false
   },
   "outputs": [],
   "source": [
    "local_df = df.loc[(df['supplier_id'] == 1) | (df['supplier_id'] == 3)]\n",
    "non_local_df = df.loc[df['supplier_id'] == 2]"
   ]
  },
  {
   "cell_type": "code",
   "execution_count": 2,
   "metadata": {
    "ExecuteTime": {
     "end_time": "2017-05-03T22:29:00.398013",
     "start_time": "2017-05-03T22:29:00.394935"
    },
    "collapsed": false,
    "scrolled": true
   },
   "outputs": [],
   "source": [
    "#msno.matrix(local_df)"
   ]
  },
  {
   "cell_type": "code",
   "execution_count": 92,
   "metadata": {
    "ExecuteTime": {
     "end_time": "2017-05-02T13:47:10.541841",
     "start_time": "2017-05-02T13:47:10.535579"
    },
    "collapsed": false
   },
   "outputs": [
    {
     "name": "stdout",
     "output_type": "stream",
     "text": [
      "Number of Null values in local hotels= 2827\n"
     ]
    }
   ],
   "source": [
    "#Counting total number of Null values\n",
    "print(\"Number of Null values in local hotels=\" ,local_df.isnull().sum().sum())"
   ]
  },
  {
   "cell_type": "code",
   "execution_count": 93,
   "metadata": {
    "ExecuteTime": {
     "end_time": "2017-05-02T13:47:11.275288",
     "start_time": "2017-05-02T13:47:11.271777"
    },
    "collapsed": false
   },
   "outputs": [],
   "source": [
    "#local_df.describe()"
   ]
  },
  {
   "cell_type": "code",
   "execution_count": 94,
   "metadata": {
    "ExecuteTime": {
     "end_time": "2017-05-02T13:47:11.890110",
     "start_time": "2017-05-02T13:47:11.887514"
    },
    "collapsed": false
   },
   "outputs": [],
   "source": [
    "#local_df.head()"
   ]
  },
  {
   "cell_type": "markdown",
   "metadata": {},
   "source": [
    "### Data Cleaning\n",
    "   - Replace empty value:\n",
    "    - Replace empty values with 0\n",
    "   - Convert (totalCommission, totalRevenue) currencies to USD"
   ]
  },
  {
   "cell_type": "code",
   "execution_count": 95,
   "metadata": {
    "ExecuteTime": {
     "end_time": "2017-05-02T13:47:13.646991",
     "start_time": "2017-05-02T13:47:13.044496"
    },
    "collapsed": false
   },
   "outputs": [
    {
     "name": "stdout",
     "output_type": "stream",
     "text": [
      "Number of Null values in local dataframe after cleaning is= 0\n"
     ]
    },
    {
     "name": "stderr",
     "output_type": "stream",
     "text": [
      "/Users/mac/anaconda/lib/python3.5/site-packages/pandas/core/frame.py:2762: SettingWithCopyWarning:\n",
      "\n",
      "\n",
      "A value is trying to be set on a copy of a slice from a DataFrame\n",
      "\n",
      "See the caveats in the documentation: http://pandas.pydata.org/pandas-docs/stable/indexing.html#indexing-view-versus-copy\n",
      "\n"
     ]
    }
   ],
   "source": [
    "# Replacing Null values with 0\n",
    "df.fillna(0, inplace=True)                # For all data\n",
    "local_df.fillna(0, inplace=True)          # For local hotels\n",
    "\n",
    "print(\"Number of Null values in local dataframe after cleaning is=\" , local_df.isnull().sum().sum())"
   ]
  },
  {
   "cell_type": "code",
   "execution_count": 3,
   "metadata": {
    "ExecuteTime": {
     "end_time": "2017-05-03T22:29:05.938927",
     "start_time": "2017-05-03T22:29:05.936264"
    },
    "collapsed": false
   },
   "outputs": [],
   "source": [
    "#After Data Cleaning\n",
    "#msno.matrix(df)"
   ]
  },
  {
   "cell_type": "markdown",
   "metadata": {},
   "source": [
    "### Removing negative rank (setting it to 0)"
   ]
  },
  {
   "cell_type": "code",
   "execution_count": 97,
   "metadata": {
    "ExecuteTime": {
     "end_time": "2017-05-02T13:47:19.003056",
     "start_time": "2017-05-02T13:47:18.829292"
    },
    "collapsed": false
   },
   "outputs": [
    {
     "name": "stdout",
     "output_type": "stream",
     "text": [
      "1055\n"
     ]
    },
    {
     "name": "stderr",
     "output_type": "stream",
     "text": [
      "/Users/mac/anaconda/lib/python3.5/site-packages/ipykernel/__main__.py:11: SettingWithCopyWarning:\n",
      "\n",
      "\n",
      "A value is trying to be set on a copy of a slice from a DataFrame.\n",
      "Try using .loc[row_indexer,col_indexer] = value instead\n",
      "\n",
      "See the caveats in the documentation: http://pandas.pydata.org/pandas-docs/stable/indexing.html#indexing-view-versus-copy\n",
      "\n"
     ]
    }
   ],
   "source": [
    "def NegativesToZero(data):\n",
    "    data = np.array(data)\n",
    "    print(len(data))\n",
    "    for i in range (len(data)):\n",
    "        if data[i] < 0:\n",
    "            data[i] = 0\n",
    "    return data\n",
    "\n",
    "rank = NegativesToZero(local_df['rank'])\n",
    "\n",
    "local_df['rank'] = rank"
   ]
  },
  {
   "cell_type": "markdown",
   "metadata": {},
   "source": [
    "### Rounding rating to the nearest tenth"
   ]
  },
  {
   "cell_type": "code",
   "execution_count": 98,
   "metadata": {
    "ExecuteTime": {
     "end_time": "2017-05-02T13:47:19.135917",
     "start_time": "2017-05-02T13:47:19.005854"
    },
    "collapsed": false
   },
   "outputs": [
    {
     "name": "stderr",
     "output_type": "stream",
     "text": [
      "/Users/mac/anaconda/lib/python3.5/site-packages/ipykernel/__main__.py:3: SettingWithCopyWarning:\n",
      "\n",
      "\n",
      "A value is trying to be set on a copy of a slice from a DataFrame.\n",
      "Try using .loc[row_indexer,col_indexer] = value instead\n",
      "\n",
      "See the caveats in the documentation: http://pandas.pydata.org/pandas-docs/stable/indexing.html#indexing-view-versus-copy\n",
      "\n"
     ]
    }
   ],
   "source": [
    "rating = np.array(local_df['AvgUserRating'])\n",
    "\n",
    "local_df['AvgUserRating'] = np.around(rating, decimals=1)"
   ]
  },
  {
   "cell_type": "markdown",
   "metadata": {},
   "source": [
    "### Count number of properties per star rating (note 0 are unrated hotels)"
   ]
  },
  {
   "cell_type": "code",
   "execution_count": 4,
   "metadata": {
    "ExecuteTime": {
     "end_time": "2017-05-03T22:29:16.949294",
     "start_time": "2017-05-03T22:29:16.946491"
    },
    "collapsed": false
   },
   "outputs": [],
   "source": [
    "#Count number of properties per star rating (note 0 are unrated hotels)\n",
    "#sns.countplot(x=\"stars\", data=local_df)"
   ]
  },
  {
   "cell_type": "markdown",
   "metadata": {},
   "source": [
    "## Here we see a correllation between number of reviews the hotel has and the amount of bookings it gets"
   ]
  },
  {
   "cell_type": "code",
   "execution_count": 9,
   "metadata": {
    "ExecuteTime": {
     "end_time": "2017-05-03T22:29:42.882030",
     "start_time": "2017-05-03T22:29:42.878959"
    },
    "collapsed": false
   },
   "outputs": [],
   "source": [
    "# Plot the number of bookings per strar rating\n",
    "#plt.scatter(local_df.numberOfReviews,local_df.numberOfBookings, marker = 'o')\n",
    "\n",
    "\n",
    "#label\n",
    "#plt.ylabel('Number Of Bookings')\n",
    "#plt.xlabel('Number Of Reviews')"
   ]
  },
  {
   "cell_type": "code",
   "execution_count": 11,
   "metadata": {
    "ExecuteTime": {
     "end_time": "2017-05-03T22:29:52.807238",
     "start_time": "2017-05-03T22:29:52.803937"
    },
    "collapsed": false
   },
   "outputs": [],
   "source": [
    "# Plot the number of bookings per strar rating\n",
    "#plt.scatter(local_df.AvgUserRating,local_df.numberOfBookings, marker = 'o')\n",
    "\n",
    "\n",
    "#label\n",
    "#plt.ylabel('Number Of Bookings')\n",
    "#plt.xlabel('Avg Rating')"
   ]
  },
  {
   "cell_type": "code",
   "execution_count": 12,
   "metadata": {
    "ExecuteTime": {
     "end_time": "2017-05-03T22:30:02.723004",
     "start_time": "2017-05-03T22:30:02.719943"
    },
    "collapsed": false
   },
   "outputs": [],
   "source": [
    "## Plot the number of bookings per strar rating\n",
    "#plt.scatter(local_df.numberOfBookings,local_df.numberOfReviews, marker = 'o')\n",
    "\n",
    "\n",
    "##label\n",
    "#plt.ylabel('Number Of Reviews')\n",
    "#plt.xlabel('Number Of Bookings')"
   ]
  },
  {
   "cell_type": "code",
   "execution_count": 13,
   "metadata": {
    "ExecuteTime": {
     "end_time": "2017-05-03T22:30:10.796393",
     "start_time": "2017-05-03T22:30:10.792306"
    },
    "collapsed": false
   },
   "outputs": [],
   "source": [
    "## Plot the number of bookings per strar rating\n",
    "#plt.scatter(local_df.is_cardless,local_df.numberOfReviews, marker = '.')\n",
    "\n",
    "\n",
    "##label\n",
    "#plt.ylabel('Cardless')\n",
    "#plt.xlabel('Number Of Bookings')"
   ]
  },
  {
   "cell_type": "code",
   "execution_count": 14,
   "metadata": {
    "ExecuteTime": {
     "end_time": "2017-05-03T22:30:18.093693",
     "start_time": "2017-05-03T22:30:18.090436"
    },
    "collapsed": false
   },
   "outputs": [],
   "source": [
    "## Plot the number of bookings per strar rating\n",
    "#plt.scatter(local_df.numberOfReviews,local_df.numberOfBookedNights, marker = 'o')\n",
    "\n",
    "##label\n",
    "#plt.ylabel('Number Of Booked Nights')\n",
    "#plt.xlabel('Number Of Reviews')"
   ]
  },
  {
   "cell_type": "markdown",
   "metadata": {},
   "source": [
    "## Checking out correllation between number of images and booking count"
   ]
  },
  {
   "cell_type": "code",
   "execution_count": 15,
   "metadata": {
    "ExecuteTime": {
     "end_time": "2017-05-03T22:30:30.434641",
     "start_time": "2017-05-03T22:30:30.430953"
    },
    "collapsed": false
   },
   "outputs": [],
   "source": [
    "## Plot the number of bookings per images \n",
    "#plt.scatter(local_df.imageCount,local_df.numberOfBookings, marker = 'o')\n",
    "#plt.xlim(0, 135)\n",
    "#plt.ylim(0, 500)\n",
    "\n",
    "\n",
    "##label\n",
    "#plt.ylabel('Number of bookings')\n",
    "#plt.xlabel('Number of Images')"
   ]
  },
  {
   "cell_type": "markdown",
   "metadata": {},
   "source": [
    "## Exploring how many hotels have a Description"
   ]
  },
  {
   "cell_type": "code",
   "execution_count": 16,
   "metadata": {
    "ExecuteTime": {
     "end_time": "2017-05-03T22:30:35.711097",
     "start_time": "2017-05-03T22:30:35.708710"
    },
    "collapsed": false
   },
   "outputs": [],
   "source": [
    "# Plot the number of bookings per images \n",
    "#sns.countplot(x=\"hasDescription\", data=local_df)"
   ]
  },
  {
   "cell_type": "code",
   "execution_count": 17,
   "metadata": {
    "ExecuteTime": {
     "end_time": "2017-05-03T22:30:37.492150",
     "start_time": "2017-05-03T22:30:37.489372"
    },
    "collapsed": false
   },
   "outputs": [],
   "source": [
    "# Plot the number of bookings per images \n",
    "#sns.countplot(x=\"is_cardless\", data=local_df)"
   ]
  },
  {
   "cell_type": "markdown",
   "metadata": {},
   "source": [
    "### To-Do: Build correct bar graph for bookings per star rating"
   ]
  },
  {
   "cell_type": "code",
   "execution_count": 108,
   "metadata": {
    "ExecuteTime": {
     "end_time": "2017-05-02T13:47:31.509036",
     "start_time": "2017-05-02T13:47:31.506320"
    },
    "collapsed": false
   },
   "outputs": [],
   "source": [
    "#df.plot('stars', 'numberOfBookings', kind='bar', color='r')"
   ]
  },
  {
   "cell_type": "markdown",
   "metadata": {},
   "source": [
    "## Linear Correlation"
   ]
  },
  {
   "cell_type": "code",
   "execution_count": 109,
   "metadata": {
    "ExecuteTime": {
     "end_time": "2017-05-02T13:47:32.593926",
     "start_time": "2017-05-02T13:47:32.587146"
    },
    "collapsed": true
   },
   "outputs": [],
   "source": [
    "#Selecting numeric values from the dataframe\n",
    "numerics = ['int16', 'int32', 'int64', 'float16', 'float32', 'float64']\n",
    "numeric_df = local_df.select_dtypes(include=numerics)"
   ]
  },
  {
   "cell_type": "code",
   "execution_count": 110,
   "metadata": {
    "ExecuteTime": {
     "end_time": "2017-05-02T13:47:33.701312",
     "start_time": "2017-05-02T13:47:33.156762"
    },
    "collapsed": false
   },
   "outputs": [
    {
     "data": {
      "text/plain": [
       "<matplotlib.axes._subplots.AxesSubplot at 0x112bb6d30>"
      ]
     },
     "execution_count": 110,
     "metadata": {},
     "output_type": "execute_result"
    },
    {
     "data": {
      "image/png": "[encoded data removed]",
      "text/plain": [
       "<matplotlib.figure.Figure at 0x112b26710>"
      ]
     },
     "metadata": {},
     "output_type": "display_data"
    }
   ],
   "source": [
    "# calculate the correlation matrix\n",
    "corr = numeric_df.corr()\n",
    "sns.heatmap(corr, \n",
    "        xticklabels=corr.columns,\n",
    "        yticklabels=corr.columns)"
   ]
  },
  {
   "cell_type": "code",
   "execution_count": 111,
   "metadata": {
    "ExecuteTime": {
     "end_time": "2017-05-02T13:47:53.921679",
     "start_time": "2017-05-02T13:47:53.915988"
    },
    "collapsed": false
   },
   "outputs": [
    {
     "name": "stdout",
     "output_type": "stream",
     "text": [
      "Number of Null values in the dataframe = 0\n"
     ]
    }
   ],
   "source": [
    "print(\"Number of Null values in the dataframe =\" ,numeric_df.isnull().sum().sum())"
   ]
  },
  {
   "cell_type": "markdown",
   "metadata": {},
   "source": [
    "<img  src=\"rapidminer-process-logic-single-nesting.png\"/>"
   ]
  },
  {
   "cell_type": "markdown",
   "metadata": {},
   "source": [
    "# Checking Linear Regression Model on the Data"
   ]
  },
  {
   "cell_type": "code",
   "execution_count": 112,
   "metadata": {
    "ExecuteTime": {
     "end_time": "2017-05-02T13:47:58.035831",
     "start_time": "2017-05-02T13:47:58.021314"
    },
    "collapsed": false
   },
   "outputs": [
    {
     "data": {
      "text/html": [
       "<div>\n",
       "<table border=\"1\" class=\"dataframe\">\n",
       "  <thead>\n",
       "    <tr style=\"text-align: right;\">\n",
       "      <th></th>\n",
       "      <th>stars</th>\n",
       "      <th>numberOfReviews</th>\n",
       "      <th>AvgUserRating</th>\n",
       "      <th>hasDescription</th>\n",
       "      <th>is_cardless</th>\n",
       "    </tr>\n",
       "  </thead>\n",
       "  <tbody>\n",
       "    <tr>\n",
       "      <th>0</th>\n",
       "      <td>5.0</td>\n",
       "      <td>79.0</td>\n",
       "      <td>3.6</td>\n",
       "      <td>1</td>\n",
       "      <td>0</td>\n",
       "    </tr>\n",
       "    <tr>\n",
       "      <th>1</th>\n",
       "      <td>4.0</td>\n",
       "      <td>8.0</td>\n",
       "      <td>4.0</td>\n",
       "      <td>1</td>\n",
       "      <td>0</td>\n",
       "    </tr>\n",
       "    <tr>\n",
       "      <th>4</th>\n",
       "      <td>3.0</td>\n",
       "      <td>0.0</td>\n",
       "      <td>0.0</td>\n",
       "      <td>1</td>\n",
       "      <td>0</td>\n",
       "    </tr>\n",
       "    <tr>\n",
       "      <th>6</th>\n",
       "      <td>3.0</td>\n",
       "      <td>9.0</td>\n",
       "      <td>3.9</td>\n",
       "      <td>1</td>\n",
       "      <td>0</td>\n",
       "    </tr>\n",
       "    <tr>\n",
       "      <th>7</th>\n",
       "      <td>4.0</td>\n",
       "      <td>2.0</td>\n",
       "      <td>3.0</td>\n",
       "      <td>1</td>\n",
       "      <td>0</td>\n",
       "    </tr>\n",
       "  </tbody>\n",
       "</table>\n",
       "</div>"
      ],
      "text/plain": [
       "   stars  numberOfReviews  AvgUserRating  hasDescription  is_cardless\n",
       "0    5.0             79.0            3.6               1            0\n",
       "1    4.0              8.0            4.0               1            0\n",
       "4    3.0              0.0            0.0               1            0\n",
       "6    3.0              9.0            3.9               1            0\n",
       "7    4.0              2.0            3.0               1            0"
      ]
     },
     "execution_count": 112,
     "metadata": {},
     "output_type": "execute_result"
    }
   ],
   "source": [
    "# Create a LinearRegression Object\n",
    "lreg = LinearRegression(normalize=True)\n",
    "\n",
    "# Data Columns\n",
    "X_multi = numeric_df.loc[:, ['stars', 'numberOfReviews', 'AvgUserRating', 'hasDescription', 'is_cardless']]\n",
    "#X_multi = numeric_df.drop(['numberOfBookings', 'NormalizedTotalPrice', 'NormalizedCommission', 'NormalizedTotalTaxedPrice', 'numberOfBookedNights'], axis=1)\n",
    "\n",
    "# Targets\n",
    "Y_target = numeric_df.numberOfBookings\n",
    "\n",
    "X_multi.head()"
   ]
  },
  {
   "cell_type": "code",
   "execution_count": 113,
   "metadata": {
    "ExecuteTime": {
     "end_time": "2017-05-02T13:47:59.068712",
     "start_time": "2017-05-02T13:47:59.057613"
    },
    "collapsed": false
   },
   "outputs": [
    {
     "data": {
      "text/plain": [
       "LinearRegression(copy_X=True, fit_intercept=True, n_jobs=1, normalize=True)"
      ]
     },
     "execution_count": 113,
     "metadata": {},
     "output_type": "execute_result"
    }
   ],
   "source": [
    "# Train the model\n",
    "lreg.fit(X_multi,Y_target)"
   ]
  },
  {
   "cell_type": "code",
   "execution_count": 114,
   "metadata": {
    "ExecuteTime": {
     "end_time": "2017-05-02T13:47:59.719066",
     "start_time": "2017-05-02T13:47:59.716588"
    },
    "collapsed": false
   },
   "outputs": [],
   "source": [
    "#print(' The estimated intercept coefficient is %.2f ' %lreg.intercept_)"
   ]
  },
  {
   "cell_type": "code",
   "execution_count": 115,
   "metadata": {
    "ExecuteTime": {
     "end_time": "2017-05-02T13:48:00.458128",
     "start_time": "2017-05-02T13:48:00.454529"
    },
    "collapsed": false
   },
   "outputs": [
    {
     "name": "stdout",
     "output_type": "stream",
     "text": [
      " The number of coefficients used was 5 \n"
     ]
    }
   ],
   "source": [
    "print(' The number of coefficients used was %d ' % len(lreg.coef_))"
   ]
  },
  {
   "cell_type": "code",
   "execution_count": 116,
   "metadata": {
    "ExecuteTime": {
     "end_time": "2017-05-02T13:48:01.131297",
     "start_time": "2017-05-02T13:48:01.119056"
    },
    "collapsed": false
   },
   "outputs": [
    {
     "name": "stdout",
     "output_type": "stream",
     "text": [
      "          Features  Coefficients\n",
      "0            stars     -1.004636\n",
      "1  numberOfReviews      3.640569\n",
      "2    AvgUserRating      1.076005\n",
      "3   hasDescription     -2.281347\n",
      "4      is_cardless      4.378557\n"
     ]
    }
   ],
   "source": [
    "# Set a DataFrame from the Features\n",
    "Features       = X_multi.columns\n",
    "CoefficientsDf = pd.DataFrame(lreg.coef_)\n",
    "\n",
    "#Initiating a new Dataframe with the columns and their features\n",
    "new = pd.DataFrame()\n",
    "new['Features'] = Features\n",
    "new['Coefficients'] = CoefficientsDf\n",
    "\n",
    "# Show\n",
    "print(new)"
   ]
  },
  {
   "cell_type": "markdown",
   "metadata": {},
   "source": [
    "## Training and Validation"
   ]
  },
  {
   "cell_type": "code",
   "execution_count": 117,
   "metadata": {
    "ExecuteTime": {
     "end_time": "2017-05-02T13:48:02.518391",
     "start_time": "2017-05-02T13:48:02.513642"
    },
    "collapsed": false
   },
   "outputs": [
    {
     "name": "stdout",
     "output_type": "stream",
     "text": [
      "0    79.0\n",
      "1     8.0\n",
      "4     0.0\n",
      "6     9.0\n",
      "7     2.0\n",
      "Name: numberOfReviews, dtype: float64\n"
     ]
    }
   ],
   "source": [
    "# Question: Can't I use multiple values of X ?\n",
    "X = numeric_df.numberOfReviews\n",
    "print(X.head())"
   ]
  },
  {
   "cell_type": "code",
   "execution_count": 118,
   "metadata": {
    "ExecuteTime": {
     "end_time": "2017-05-02T13:48:03.456608",
     "start_time": "2017-05-02T13:48:03.442487"
    },
    "collapsed": false
   },
   "outputs": [
    {
     "name": "stdout",
     "output_type": "stream",
     "text": [
      "[[ 79.]\n",
      " [  8.]\n",
      " [  0.]\n",
      " [  9.]\n",
      " [  2.]]\n"
     ]
    }
   ],
   "source": [
    "# Use v to make X two-dimensional\n",
    "X = np.vstack(numeric_df.numberOfReviews)\n",
    "print(X[:5])"
   ]
  },
  {
   "cell_type": "code",
   "execution_count": 119,
   "metadata": {
    "ExecuteTime": {
     "end_time": "2017-05-02T13:48:04.346729",
     "start_time": "2017-05-02T13:48:04.233694"
    },
    "collapsed": false
   },
   "outputs": [
    {
     "name": "stdout",
     "output_type": "stream",
     "text": [
      "[[array([ 79.]) 1]\n",
      " [array([ 8.]) 1]\n",
      " [array([ 0.]) 1]\n",
      " [array([ 9.]) 1]\n",
      " [array([ 2.]) 1]]\n"
     ]
    }
   ],
   "source": [
    "X = np.array( [ [value,1] for value in X ] )\n",
    "print(X[:5])"
   ]
  },
  {
   "cell_type": "code",
   "execution_count": 120,
   "metadata": {
    "ExecuteTime": {
     "end_time": "2017-05-02T13:48:05.473503",
     "start_time": "2017-05-02T13:48:05.464907"
    },
    "collapsed": false
   },
   "outputs": [],
   "source": [
    "# CHECK THIS OUT !\n",
    "# X_train, X_test, y_train, y_test = train_test_split(df_feat, np.ravel(df_target), test_size=0.30, random_state=101)\n",
    "\n",
    "\n",
    "# Grab the output and set as X and Y test and train data sets!\n",
    "X_train, X_test, Y_train, Y_test = sklearn.model_selection.train_test_split(X,numeric_df.numberOfBookings)\n",
    "\n",
    "#print(X_train[:5], X_test[:5], Y_train[:5] , Y_test[:5])"
   ]
  },
  {
   "cell_type": "code",
   "execution_count": 121,
   "metadata": {
    "ExecuteTime": {
     "end_time": "2017-05-02T13:48:07.481553",
     "start_time": "2017-05-02T13:48:07.478065"
    },
    "collapsed": false
   },
   "outputs": [
    {
     "name": "stdout",
     "output_type": "stream",
     "text": [
      "(791, 2) (264, 2) (791,) (264,)\n"
     ]
    }
   ],
   "source": [
    "print(X_train.shape, X_test.shape, Y_train.shape, Y_test.shape)"
   ]
  },
  {
   "cell_type": "code",
   "execution_count": 122,
   "metadata": {
    "ExecuteTime": {
     "end_time": "2017-05-02T13:48:08.473927",
     "start_time": "2017-05-02T13:48:08.466123"
    },
    "collapsed": false
   },
   "outputs": [
    {
     "data": {
      "text/plain": [
       "LinearRegression(copy_X=True, fit_intercept=True, n_jobs=1, normalize=False)"
      ]
     },
     "execution_count": 122,
     "metadata": {},
     "output_type": "execute_result"
    }
   ],
   "source": [
    "# Create our regression object\n",
    "lreg = LinearRegression()\n",
    "\n",
    "# Once again do a linear regression, except only on the training sets this time\n",
    "lreg.fit(X_train,Y_train)"
   ]
  },
  {
   "cell_type": "code",
   "execution_count": 123,
   "metadata": {
    "ExecuteTime": {
     "end_time": "2017-05-02T13:48:12.313257",
     "start_time": "2017-05-02T13:48:12.305985"
    },
    "collapsed": false
   },
   "outputs": [
    {
     "name": "stdout",
     "output_type": "stream",
     "text": [
      "[array([ 17.]) 1]\n",
      "[ 66.6397546    3.90522287   7.59548944  14.97602259  26.0468223 ]\n"
     ]
    }
   ],
   "source": [
    "# Predictions on training and testing sets\n",
    "pred_train = lreg.predict(X_train)\n",
    "pred_test = lreg.predict(X_test)\n",
    "\n",
    "print(X_train[0]) \n",
    "print(pred_train[:5])"
   ]
  },
  {
   "cell_type": "markdown",
   "metadata": {},
   "source": [
    "## Predicting amount of bookings for 2 hotels with number of reviews 79 and 8"
   ]
  },
  {
   "cell_type": "code",
   "execution_count": 19,
   "metadata": {
    "ExecuteTime": {
     "end_time": "2017-05-03T22:31:29.247692",
     "start_time": "2017-05-03T22:31:29.244200"
    },
    "collapsed": false
   },
   "outputs": [],
   "source": [
    "# Predicting amount of bookings for 2 hotels with number of reviews 79 and 8\n",
    "\n",
    "#test_hotels_reviews = np.array([79.0, 8.0])\n",
    "#test_hotels_review_count = np.vstack(test_hotels_reviews)\n",
    "#test_hotels_review_count = np.array([ [value,1] for value in test_hotels_review_count ])\n",
    "\n",
    "#predicted_bookings = lreg.predict(test_hotels_review_count)\n",
    "#print(\"Predicted bookings for hotels with\", test_hotels_reviews, 'review count is=', predicted_bookings, 'respectively')"
   ]
  },
  {
   "cell_type": "code",
   "execution_count": 126,
   "metadata": {
    "ExecuteTime": {
     "end_time": "2017-05-02T13:48:19.285816",
     "start_time": "2017-05-02T13:48:19.281085"
    },
    "collapsed": false
   },
   "outputs": [
    {
     "name": "stdout",
     "output_type": "stream",
     "text": [
      "Fit a model X_train, and calculate MSE with Y_train: 331.62\n",
      "Fit a model X_train, and calculate MSE with X_test and Y_test: 269.19\n"
     ]
    }
   ],
   "source": [
    "print(\"Fit a model X_train, and calculate MSE with Y_train: %.2f\"  % np.mean((Y_train - pred_train) ** 2))\n",
    "    \n",
    "print(\"Fit a model X_train, and calculate MSE with X_test and Y_test: %.2f\"  %np.mean((Y_test - pred_test) ** 2))"
   ]
  },
  {
   "cell_type": "markdown",
   "metadata": {},
   "source": [
    "## Residual Plots\n",
    "In regression analysis, the difference between the observed value of the dependent variable (y) and the predicted value (ŷ) is called the residual (e). Each data point has one residual, so that:\n",
    "$$Residual = Observed\\:value - Predicted\\:value $$\n",
    "You can think of these residuals in the same way as the D value we discussed earlier, in this case however, there were multiple data points considered.\n",
    "A residual plot is a graph that shows the residuals on the vertical axis and the independent variable on the horizontal axis. If the points in a residual plot are randomly dispersed around the horizontal axis, a linear regression model is appropriate for the data; otherwise, a non-linear model is more appropriate.\n",
    "Residual plots are a good way to visualize the errors in your data. If you have done a good job then your data should be randomly scattered around line zero. If there is some strucutre or pattern, that means your model is not capturing some thing. There could be an interaction between 2 variables that you're not considering, or may be you are measuring time dependent data. If this is the case go back to your model and check your data set closely.\n",
    "\n",
    "Check: http://blog.minitab.com/blog/adventures-in-statistics-2/why-you-need-to-check-your-residual-plots-for-regression-analysis"
   ]
  },
  {
   "cell_type": "code",
   "execution_count": 44,
   "metadata": {
    "ExecuteTime": {
     "end_time": "2017-05-01T18:09:12.716660",
     "start_time": "2017-05-01T18:09:12.402748"
    },
    "collapsed": false
   },
   "outputs": [
    {
     "data": {
      "text/plain": [
       "<matplotlib.text.Text at 0x1116b42b0>"
      ]
     },
     "execution_count": 44,
     "metadata": {},
     "output_type": "execute_result"
    },
    {
     "data": {
      "image/png": "[encoded data removed]",
      "text/plain": [
       "<matplotlib.figure.Figure at 0x110732198>"
      ]
     },
     "metadata": {},
     "output_type": "display_data"
    }
   ],
   "source": [
    "# Scatter plot the training data\n",
    "train = plt.scatter(pred_train,(Y_train-pred_train),c='b',alpha=0.5)\n",
    "\n",
    "# Scatter plot the testing data\n",
    "test = plt.scatter(pred_test,(Y_test-pred_test),c='r',alpha=0.5)\n",
    "\n",
    "# Plot a horizontal axis line at 0\n",
    "plt.hlines(y=0,xmin=-10,xmax=50)\n",
    "\n",
    "#Labels\n",
    "plt.legend((train,test),('Training','Test'),loc='lower left')\n",
    "plt.title('Residual Plots')"
   ]
  },
  {
   "cell_type": "markdown",
   "metadata": {
    "collapsed": true
   },
   "source": [
    "## To-Do: Check accuracy of Linear Regression Model for single point"
   ]
  },
  {
   "cell_type": "markdown",
   "metadata": {},
   "source": [
    "# Random Forest"
   ]
  },
  {
   "cell_type": "code",
   "execution_count": 45,
   "metadata": {
    "ExecuteTime": {
     "end_time": "2017-05-01T18:09:16.146673",
     "start_time": "2017-05-01T18:09:16.107494"
    },
    "collapsed": true
   },
   "outputs": [],
   "source": [
    "from sklearn.ensemble import RandomForestRegressor"
   ]
  },
  {
   "cell_type": "markdown",
   "metadata": {},
   "source": [
    "## Univariate Random Forest Regressor"
   ]
  },
  {
   "cell_type": "code",
   "execution_count": 22,
   "metadata": {
    "ExecuteTime": {
     "end_time": "2017-05-03T22:33:04.902449",
     "start_time": "2017-05-03T22:33:04.897343"
    },
    "collapsed": false
   },
   "outputs": [],
   "source": [
    "#x = numeric_df.numberOfReviews\n",
    "#y = numeric_df.numberOfBookings\n",
    "\n",
    "\n",
    "## X points dynamically chosen according to max number of reviews\n",
    "#xfit = np.linspace(min(x), max(x), max(x))\n",
    "\n",
    "## Model\n",
    "#rfr = RandomForestRegressor(100)\n",
    "\n",
    "## Fit Model (Format array for y with [:,None])\n",
    "#rfr.fit(x[:, None], y)\n",
    "\n",
    "## Set predicted points\n",
    "#yfit = rfr.predict(xfit[:, None])\n",
    "\n",
    "## Set real poitns (the model function)\n",
    "#ytrue = numeric_df.numberOfBookings\n",
    "\n",
    "## Plot \n",
    "#plt.figure(figsize=(16,8))\n",
    "#plt.errorbar(x, y, 0.1, fmt='o')\n",
    "\n",
    "#plt.plot(xfit, yfit, '-r');\n",
    "\n",
    "#print(xfit.shape, yfit.shape, xfit.shape, ytrue.shape)"
   ]
  },
  {
   "cell_type": "code",
   "execution_count": 20,
   "metadata": {
    "ExecuteTime": {
     "end_time": "2017-05-03T22:31:57.046984",
     "start_time": "2017-05-03T22:31:57.044513"
    },
    "collapsed": false
   },
   "outputs": [],
   "source": [
    "#hotelBookings = rfr.predict(2)\n",
    "#print(hotelBookings)"
   ]
  },
  {
   "cell_type": "code",
   "execution_count": 23,
   "metadata": {
    "ExecuteTime": {
     "end_time": "2017-05-03T22:33:14.900939",
     "start_time": "2017-05-03T22:33:14.898671"
    },
    "collapsed": false
   },
   "outputs": [],
   "source": [
    "#numeric_df.head()"
   ]
  },
  {
   "cell_type": "code",
   "execution_count": 24,
   "metadata": {
    "ExecuteTime": {
     "end_time": "2017-05-03T22:33:46.274226",
     "start_time": "2017-05-03T22:33:46.270052"
    },
    "collapsed": false
   },
   "outputs": [],
   "source": [
    "#x = numeric_df.numberOfReviews\n",
    "#y = numeric_df.numberOfBookedNights\n",
    "\n",
    "## X points dynamically chosen according to max number of reviews\n",
    "#xfit = np.linspace(min(x), max(x), max(x))\n",
    "\n",
    "## Model\n",
    "#rfr = RandomForestRegressor(100)\n",
    "\n",
    "## Fit Model (Format array for y with [:,None])\n",
    "#rfr.fit(x[:, None], y)\n",
    "\n",
    "## Set predicted points\n",
    "#yfit = rfr.predict(xfit[:, None])\n",
    "\n",
    "## Set real poitns (the model function)\n",
    "#ytrue = numeric_df.numberOfBookings\n",
    "\n",
    "## Plot \n",
    "#plt.figure(figsize=(16,8))\n",
    "#plt.errorbar(x, y, 0.1, fmt='o')\n",
    "\n",
    "#plt.plot(xfit, yfit, '-r');"
   ]
  },
  {
   "cell_type": "markdown",
   "metadata": {},
   "source": [
    "## Multivariate Random Forest Regressor"
   ]
  },
  {
   "cell_type": "code",
   "execution_count": 130,
   "metadata": {
    "ExecuteTime": {
     "end_time": "2017-05-02T13:54:18.554275",
     "start_time": "2017-05-02T13:54:18.545689"
    },
    "collapsed": false
   },
   "outputs": [],
   "source": [
    "X_multi = numeric_df.loc[:, ['stars', 'numberOfReviews', 'AvgUserRating', 'hasDescription']]\n",
    "\n",
    "# Model\n",
    "rfr = RandomForestRegressor(100)"
   ]
  },
  {
   "cell_type": "markdown",
   "metadata": {},
   "source": [
    "#### Checking for numberOfBookedNights"
   ]
  },
  {
   "cell_type": "code",
   "execution_count": 21,
   "metadata": {
    "ExecuteTime": {
     "end_time": "2017-05-03T22:32:15.117307",
     "start_time": "2017-05-03T22:32:15.113710"
    },
    "collapsed": false
   },
   "outputs": [],
   "source": [
    "#y = numeric_df.numberOfBookedNights\n",
    "\n",
    "## Fit Model (Format array for y with [:,None])\n",
    "#rfr.fit(X_multi, y)\n",
    "\n",
    "## Set predicted points\n",
    "#predicted_number_of_booked_nights = rfr.predict(X_multi)\n",
    "\n",
    "#print(predicted_number_of_booked_nights[:5])\n",
    "\n",
    "##Check Model score (accuracy/error)\n",
    "#sc= rfr.score(X_multi, y, sample_weight=None)\n",
    "#print(\"\\nAccuracy score for predicting number of booked nights=\", sc*100, \"% accoridng to 'stars', 'numberOfReviews', 'AvgUserRating', 'hasDescription'\")"
   ]
  },
  {
   "cell_type": "markdown",
   "metadata": {
    "ExecuteTime": {
     "end_time": "2017-05-02T13:54:54.745593",
     "start_time": "2017-05-02T13:54:54.742693"
    }
   },
   "source": [
    "#### Checking for numberOfBookings"
   ]
  },
  {
   "cell_type": "code",
   "execution_count": 129,
   "metadata": {
    "ExecuteTime": {
     "end_time": "2017-05-02T13:54:10.615804",
     "start_time": "2017-05-02T13:54:10.354575"
    },
    "collapsed": false
   },
   "outputs": [
    {
     "name": "stdout",
     "output_type": "stream",
     "text": [
      "\n",
      "Accuracy score for predicting number of bookings     = 96.1326289245 % accoridng to 'stars', 'numberOfReviews', 'AvgUserRating', 'hasDescription'\n"
     ]
    }
   ],
   "source": [
    "#Changing Target\n",
    "y = numeric_df.numberOfBookings\n",
    "\n",
    "# Fit Model (Format array for y with [:,None])\n",
    "rfr.fit(X_multi, y)\n",
    "\n",
    "# Set predicted points\n",
    "predicted_number_of_bookings = rfr.predict(X_multi)\n",
    "\n",
    "#Check Model score (accuracy/error)\n",
    "sc= rfr.score(X_multi, y, sample_weight=None)\n",
    "print(\"\\nAccuracy score for predicting number of bookings     =\", sc*100, \"% accoridng to 'stars', 'numberOfReviews', 'AvgUserRating', 'hasDescription'\")\n"
   ]
  }
 ],
 "metadata": {
  "_draft": {
   "nbviewer_url": "https://gist.github.com/54482a258ca5220be92e95b05b723a6e"
  },
  "anaconda-cloud": {},
  "gist": {
   "data": {
    "description": "advance-data-science/Project/Hotel Importance Ranking System (Linear Regression).ipynb",
    "public": true
   },
   "id": "54482a258ca5220be92e95b05b723a6e"
  },
  "kernelspec": {
   "display_name": "Python [conda root]",
   "language": "python",
   "name": "conda-root-py"
  }
 },
 "nbformat": 4,
 "nbformat_minor": 1
}
